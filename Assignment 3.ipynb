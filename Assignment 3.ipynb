{
 "cells": [
  {
   "cell_type": "markdown",
   "id": "e31b54a4",
   "metadata": {},
   "source": [
    "### Create 'd', a nested list that contains 5 other lists. The first list should contain the four string values: ID, Age, is_part_time, salary. The next 4 lists should contain date of types: int, int, boolean, int. For example [3, 35, False, 72000]. Populate these 4 remaining lists with your own made-up data."
   ]
  },
  {
   "cell_type": "code",
   "execution_count": 1,
   "id": "d19741b2",
   "metadata": {},
   "outputs": [
    {
     "name": "stdout",
     "output_type": "stream",
     "text": [
      "[['ID', 'Age', 'is_part_time', 'salary'], [2700, 35, False, 50000], [2701, 19, True, 30000], [2702, 58, False, 80000], [2703, 42, False, 95000]]\n"
     ]
    }
   ],
   "source": [
    "d = [[ \"ID\", \"Age\", \"is_part_time\", \"salary\"],[2700, 35, False, 50000], [2701, 19, True, 30000], [2702, 58, False, 80000],[2703, 42, False, 95000] ]\n",
    "print(d)"
   ]
  },
  {
   "cell_type": "markdown",
   "id": "b342a801",
   "metadata": {},
   "source": [
    "### Print your current working directory to the console."
   ]
  },
  {
   "cell_type": "code",
   "execution_count": 2,
   "id": "26ee0c52",
   "metadata": {},
   "outputs": [
    {
     "data": {
      "text/plain": [
       "'C:\\\\Users\\\\David\\\\Documents\\\\Scientific Data Analysis'"
      ]
     },
     "execution_count": 2,
     "metadata": {},
     "output_type": "execute_result"
    }
   ],
   "source": [
    "pwd"
   ]
  },
  {
   "cell_type": "markdown",
   "id": "e8cbf04b",
   "metadata": {},
   "source": [
    "### Using Python's csv module, write 'd' to disk as a csv file. Use the method writerows() to write the nested list structure."
   ]
  },
  {
   "cell_type": "code",
   "execution_count": 3,
   "id": "956c76b3",
   "metadata": {},
   "outputs": [],
   "source": [
    "import csv\n",
    "filename = \"d.csv\"\n",
    "with open(filename, 'w', newline=\"\") as file:\n",
    "    csvwriter = csv.writer(file) \n",
    "    csvwriter.writerows(d) \n",
    "    \n"
   ]
  },
  {
   "cell_type": "markdown",
   "id": "5d934070",
   "metadata": {},
   "source": [
    "### Using pandas module, load the same csv file into 'd2', and print d2."
   ]
  },
  {
   "cell_type": "code",
   "execution_count": 4,
   "id": "f90dd377",
   "metadata": {},
   "outputs": [
    {
     "name": "stdout",
     "output_type": "stream",
     "text": [
      "     ID  Age  is_part_time  salary\n",
      "0  2700   35         False   50000\n",
      "1  2701   19          True   30000\n",
      "2  2702   58         False   80000\n",
      "3  2703   42         False   95000\n"
     ]
    }
   ],
   "source": [
    "import pandas as pd\n",
    "d2 = pd.read_csv(r\"C:\\\\Users\\\\David\\\\Documents\\\\Scientific Data Analysis\\\\d.csv\")\n",
    "print(d2)"
   ]
  },
  {
   "cell_type": "markdown",
   "id": "2933154b",
   "metadata": {},
   "source": [
    "### Create a Series 'd' containing 5 values, 0 through 4 inclusive, in increments of 1, with indexes 'a' through 'e', inclusive."
   ]
  },
  {
   "cell_type": "code",
   "execution_count": 5,
   "id": "5ce9f2e7",
   "metadata": {},
   "outputs": [
    {
     "name": "stdout",
     "output_type": "stream",
     "text": [
      "a    0\n",
      "b    1\n",
      "c    2\n",
      "d    3\n",
      "e    4\n",
      "dtype: int64\n"
     ]
    }
   ],
   "source": [
    "d = pd.Series(range(0,5,1), index = [\"a\",\"b\",\"c\",\"d\",\"e\"])\n",
    "print(d)"
   ]
  },
  {
   "cell_type": "markdown",
   "id": "38da907a",
   "metadata": {},
   "source": [
    "### Create a 'd2' containing 5 values, 5 through 9 inclusive, with indexes: a,b,c,d,z."
   ]
  },
  {
   "cell_type": "code",
   "execution_count": 6,
   "id": "da3e6cd4",
   "metadata": {},
   "outputs": [
    {
     "name": "stdout",
     "output_type": "stream",
     "text": [
      "a    5\n",
      "b    6\n",
      "c    7\n",
      "d    8\n",
      "z    9\n",
      "dtype: int64\n"
     ]
    }
   ],
   "source": [
    "d2 = pd.Series(range(5,10,1), index = [\"a\",\"b\",\"c\",\"d\",\"z\"])\n",
    "print(d2)"
   ]
  },
  {
   "cell_type": "markdown",
   "id": "5f19197a",
   "metadata": {},
   "source": [
    "### Arithmetically add d and d2, save in 'd3', and print d3 to console. You should see two NaN values at the end of d3."
   ]
  },
  {
   "cell_type": "code",
   "execution_count": 7,
   "id": "edb3d149",
   "metadata": {},
   "outputs": [
    {
     "name": "stdout",
     "output_type": "stream",
     "text": [
      "a     5.0\n",
      "b     7.0\n",
      "c     9.0\n",
      "d    11.0\n",
      "e     NaN\n",
      "z     NaN\n",
      "dtype: float64\n"
     ]
    }
   ],
   "source": [
    "d3 = d+d2\n",
    "print(d3)"
   ]
  },
  {
   "cell_type": "markdown",
   "id": "c62845f7",
   "metadata": {},
   "source": [
    "### Using a Panda's method, identify which values in d3 contain NaN. Using that information, print only those NaN values in d3 to console. "
   ]
  },
  {
   "cell_type": "code",
   "execution_count": 8,
   "id": "86146e25",
   "metadata": {},
   "outputs": [
    {
     "name": "stdout",
     "output_type": "stream",
     "text": [
      "e   NaN\n",
      "z   NaN\n",
      "dtype: float64\n"
     ]
    }
   ],
   "source": [
    "print(d3[d3.isna()])\n"
   ]
  },
  {
   "cell_type": "markdown",
   "id": "29b8c486",
   "metadata": {},
   "source": [
    "### Pandas come with a few built-in DataFrame objects. Assign the following built-in DataFrame to variable 'd4': pd._testing.makeMixedDataFrame(). Print d4 to console."
   ]
  },
  {
   "cell_type": "code",
   "execution_count": 9,
   "id": "12b73e9f",
   "metadata": {
    "scrolled": true
   },
   "outputs": [
    {
     "name": "stdout",
     "output_type": "stream",
     "text": [
      "     A    B     C          D\n",
      "0  0.0  0.0  foo1 2009-01-01\n",
      "1  1.0  1.0  foo2 2009-01-02\n",
      "2  2.0  0.0  foo3 2009-01-05\n",
      "3  3.0  1.0  foo4 2009-01-06\n",
      "4  4.0  0.0  foo5 2009-01-07\n"
     ]
    }
   ],
   "source": [
    "d4 = pd._testing.makeMixedDataFrame()\n",
    "print(d4)"
   ]
  },
  {
   "cell_type": "markdown",
   "id": "696bfe9e",
   "metadata": {},
   "source": [
    "### Determine which elements in column 'A' are greater than 2, and store the result in a new column in d4 called 'greater'. Print d4 to console."
   ]
  },
  {
   "cell_type": "code",
   "execution_count": 10,
   "id": "03df4548",
   "metadata": {},
   "outputs": [
    {
     "name": "stdout",
     "output_type": "stream",
     "text": [
      "     A    B     C          D  greater\n",
      "0  0.0  0.0  foo1 2009-01-01      3.0\n",
      "1  1.0  1.0  foo2 2009-01-02      4.0\n",
      "2  2.0  0.0  foo3 2009-01-05      NaN\n",
      "3  3.0  1.0  foo4 2009-01-06      NaN\n",
      "4  4.0  0.0  foo5 2009-01-07      NaN\n"
     ]
    }
   ],
   "source": [
    "col = []\n",
    "for i in  d4.loc[:,\"A\"]:\n",
    "    if i>2:\n",
    "        col.append(i)\n",
    "new_col = pd.Series(col)\n",
    "d4[\"greater\"] = new_col\n",
    "print(d4)\n",
    "\n",
    "#Alternative way\n",
    "# col = pd.DataFrame(col)\n",
    "\n",
    "# d4 = pd.concat([d4,col], axis = 1)\n",
    "# d4 = d4.rename(columns = {0:'greater'})"
   ]
  },
  {
   "cell_type": "code",
   "execution_count": null,
   "id": "0232bb10",
   "metadata": {},
   "outputs": [],
   "source": []
  }
 ],
 "metadata": {
  "kernelspec": {
   "display_name": "Python 3 (ipykernel)",
   "language": "python",
   "name": "python3"
  },
  "language_info": {
   "codemirror_mode": {
    "name": "ipython",
    "version": 3
   },
   "file_extension": ".py",
   "mimetype": "text/x-python",
   "name": "python",
   "nbconvert_exporter": "python",
   "pygments_lexer": "ipython3",
   "version": "3.11.5"
  }
 },
 "nbformat": 4,
 "nbformat_minor": 5
}
