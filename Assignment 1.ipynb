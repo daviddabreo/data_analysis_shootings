{
 "cells": [
  {
   "cell_type": "markdown",
   "id": "859fa654",
   "metadata": {},
   "source": [
    "### 1) Create a list 'd' containing the values: 2, 4, 6, 8, 'Monday', 'Tuesday'"
   ]
  },
  {
   "cell_type": "code",
   "execution_count": 1,
   "id": "d9135f66",
   "metadata": {},
   "outputs": [
    {
     "name": "stdout",
     "output_type": "stream",
     "text": [
      "[2, 4, 6, 8, 'Monday', 'Tuesday']\n"
     ]
    }
   ],
   "source": [
    "d = [2, 4, 6, 8, 'Monday', 'Tuesday']\n",
    "print(d)"
   ]
  },
  {
   "cell_type": "markdown",
   "id": "9921f071",
   "metadata": {},
   "source": [
    "### 2) Insert the value 100 between 4 and 6."
   ]
  },
  {
   "cell_type": "code",
   "execution_count": 2,
   "id": "f29cd9dc",
   "metadata": {},
   "outputs": [
    {
     "name": "stdout",
     "output_type": "stream",
     "text": [
      "[2, 4, 100, 6, 8, 'Monday', 'Tuesday']\n"
     ]
    }
   ],
   "source": [
    "d.insert(2,100)\n",
    "print(d)"
   ]
  },
  {
   "cell_type": "markdown",
   "id": "bb33fc5e",
   "metadata": {},
   "source": [
    "### 3) Iterate over 'd', printing the type of each variable to the console. Have a tab character printed after each element, rather than a newline."
   ]
  },
  {
   "cell_type": "code",
   "execution_count": 3,
   "id": "1c7db507",
   "metadata": {},
   "outputs": [
    {
     "name": "stdout",
     "output_type": "stream",
     "text": [
      "<class 'int'>\t<class 'int'>\t<class 'int'>\t<class 'int'>\t<class 'int'>\t<class 'str'>\t<class 'str'>\t"
     ]
    }
   ],
   "source": [
    "for element in d:\n",
    "    print(type(element),end = \"\\t\")"
   ]
  },
  {
   "cell_type": "markdown",
   "id": "11ccc7d1",
   "metadata": {},
   "source": [
    "### 4) Create a new list 'd2' containing the values: 'Wednesday', Thursday', 'Friday'"
   ]
  },
  {
   "cell_type": "code",
   "execution_count": 4,
   "id": "b0fd524e",
   "metadata": {},
   "outputs": [],
   "source": [
    "d2 = [ 'Wednesday', 'Thursday', 'Friday']\n"
   ]
  },
  {
   "cell_type": "markdown",
   "id": "216a3999",
   "metadata": {},
   "source": [
    "### 5) Concatenate the two lists, storing the result in 'd'."
   ]
  },
  {
   "cell_type": "code",
   "execution_count": 5,
   "id": "7210d9bd",
   "metadata": {},
   "outputs": [
    {
     "name": "stdout",
     "output_type": "stream",
     "text": [
      "[2, 4, 100, 6, 8, 'Monday', 'Tuesday', 'Wednesday', 'Thursday', 'Friday']\n"
     ]
    }
   ],
   "source": [
    "d = d + d2\n",
    "print(d)"
   ]
  },
  {
   "cell_type": "markdown",
   "id": "26aeed14",
   "metadata": {},
   "source": [
    "### 6) Pop the last value off of 'd', and use it in a formatted string to say \"My favourite day of the week is XXX\", where XXX the popped value."
   ]
  },
  {
   "cell_type": "code",
   "execution_count": 6,
   "id": "db3d5148",
   "metadata": {},
   "outputs": [
    {
     "name": "stdout",
     "output_type": "stream",
     "text": [
      "My favourite day of the week is Friday.\n"
     ]
    }
   ],
   "source": [
    "popped_val = d.pop(len(d)-1)\n",
    "print(f\"My favourite day of the week is {popped_val}.\")"
   ]
  },
  {
   "cell_type": "markdown",
   "id": "fab7ecb9",
   "metadata": {},
   "source": [
    "### 7) Create a numpy array 'd', containing 10 linearly spaced values from 0 to 35."
   ]
  },
  {
   "cell_type": "code",
   "execution_count": 7,
   "id": "b09d3fb2",
   "metadata": {},
   "outputs": [
    {
     "name": "stdout",
     "output_type": "stream",
     "text": [
      "[ 0.          3.88888889  7.77777778 11.66666667 15.55555556 19.44444444\n",
      " 23.33333333 27.22222222 31.11111111 35.        ]\n"
     ]
    }
   ],
   "source": [
    "import numpy as np\n",
    "d = np.array(np.linspace(start = 0, stop = 35, num = 10))\n",
    "print(d)"
   ]
  },
  {
   "cell_type": "markdown",
   "id": "7dc73cbb",
   "metadata": {},
   "source": [
    "### 8) Reshape 'd' into a 5x2 array, storing the result in 'd'"
   ]
  },
  {
   "cell_type": "code",
   "execution_count": 8,
   "id": "f7f5a201",
   "metadata": {},
   "outputs": [
    {
     "name": "stdout",
     "output_type": "stream",
     "text": [
      "[[ 0.          3.88888889]\n",
      " [ 7.77777778 11.66666667]\n",
      " [15.55555556 19.44444444]\n",
      " [23.33333333 27.22222222]\n",
      " [31.11111111 35.        ]]\n"
     ]
    }
   ],
   "source": [
    "d = d.reshape(5,2)\n",
    "print(d)"
   ]
  },
  {
   "cell_type": "markdown",
   "id": "c33b3dd2",
   "metadata": {},
   "source": [
    "### 9) Calculate mean of the values in each column of 'd', rounding to two decimal places, and print the results."
   ]
  },
  {
   "cell_type": "code",
   "execution_count": 9,
   "id": "dd69b3bb",
   "metadata": {},
   "outputs": [
    {
     "name": "stdout",
     "output_type": "stream",
     "text": [
      " The means are, [15.56 19.44]\n"
     ]
    }
   ],
   "source": [
    "c1_mean = d.mean(axis=0)\n",
    "np.set_printoptions(precision=2)\n",
    "print(f\" The means are, {c1_mean}\")"
   ]
  },
  {
   "cell_type": "markdown",
   "id": "6e402d4b",
   "metadata": {},
   "source": [
    "### 10) Print these values in 'd': all rows, second column "
   ]
  },
  {
   "cell_type": "code",
   "execution_count": 10,
   "id": "fce2340c",
   "metadata": {},
   "outputs": [
    {
     "name": "stdout",
     "output_type": "stream",
     "text": [
      "[ 3.89 11.67 19.44 27.22 35.  ]\n"
     ]
    }
   ],
   "source": [
    "print(d[:,1])"
   ]
  }
 ],
 "metadata": {
  "kernelspec": {
   "display_name": "Python 3 (ipykernel)",
   "language": "python",
   "name": "python3"
  },
  "language_info": {
   "codemirror_mode": {
    "name": "ipython",
    "version": 3
   },
   "file_extension": ".py",
   "mimetype": "text/x-python",
   "name": "python",
   "nbconvert_exporter": "python",
   "pygments_lexer": "ipython3",
   "version": "3.11.5"
  }
 },
 "nbformat": 4,
 "nbformat_minor": 5
}
