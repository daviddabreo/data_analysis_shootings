{
 "cells": [
  {
   "cell_type": "markdown",
   "id": "56274ac4",
   "metadata": {},
   "source": [
    "### Using the function arange, create an array of 10 integers 'd' from -20 to 25 (inclusive), in steps of 5."
   ]
  },
  {
   "cell_type": "code",
   "execution_count": 1,
   "id": "d45b91ba",
   "metadata": {},
   "outputs": [
    {
     "name": "stdout",
     "output_type": "stream",
     "text": [
      "[-20 -15 -10  -5   0   5  10  15  20  25]\n"
     ]
    }
   ],
   "source": [
    "import numpy as np\n",
    "d = np.arange(start = -20, stop = 26, step =5)\n",
    "print(d)"
   ]
  },
  {
   "cell_type": "markdown",
   "id": "7e03da16",
   "metadata": {},
   "source": [
    "### Multiply all values in d by 10, storing the result in d2."
   ]
  },
  {
   "cell_type": "code",
   "execution_count": 2,
   "id": "4747492c",
   "metadata": {},
   "outputs": [
    {
     "name": "stdout",
     "output_type": "stream",
     "text": [
      "[-200 -150 -100  -50    0   50  100  150  200  250]\n"
     ]
    }
   ],
   "source": [
    "d2 = d*10\n",
    "print(d2)"
   ]
  },
  {
   "cell_type": "markdown",
   "id": "83e046b5",
   "metadata": {},
   "source": [
    "### Add the values stored in d and d2, element-wise, printing the result to the console"
   ]
  },
  {
   "cell_type": "code",
   "execution_count": 3,
   "id": "6210bca4",
   "metadata": {},
   "outputs": [
    {
     "name": "stdout",
     "output_type": "stream",
     "text": [
      "[-220 -165 -110  -55    0   55  110  165  220  275]\n"
     ]
    }
   ],
   "source": [
    "print(d+d2)"
   ]
  },
  {
   "cell_type": "markdown",
   "id": "21659fd0",
   "metadata": {},
   "source": [
    "### Reshape d2 into a 5x2 array, storing the result in d2."
   ]
  },
  {
   "cell_type": "code",
   "execution_count": 4,
   "id": "c983c805",
   "metadata": {},
   "outputs": [
    {
     "name": "stdout",
     "output_type": "stream",
     "text": [
      "[[-200 -150]\n",
      " [-100  -50]\n",
      " [   0   50]\n",
      " [ 100  150]\n",
      " [ 200  250]]\n"
     ]
    }
   ],
   "source": [
    "d2 = d2.reshape(5,2)\n",
    "print(d2)"
   ]
  },
  {
   "cell_type": "markdown",
   "id": "7c2c059f",
   "metadata": {},
   "source": [
    "### Create an array d3, containing the integers 1,2,3,4,5."
   ]
  },
  {
   "cell_type": "code",
   "execution_count": 5,
   "id": "e26cbd31",
   "metadata": {},
   "outputs": [
    {
     "name": "stdout",
     "output_type": "stream",
     "text": [
      "[1 2 3 4 5]\n"
     ]
    }
   ],
   "source": [
    "d3 = np.arange(1,6)\n",
    "print(d3)\n"
   ]
  },
  {
   "cell_type": "markdown",
   "id": "5cc90a7d",
   "metadata": {},
   "source": [
    "### Reshape d3 into the necessary shape such that d2*d3 succeeds (hint: broadcasting). Save the result of d2*d3 into d4, and print d4 to the console."
   ]
  },
  {
   "cell_type": "code",
   "execution_count": 6,
   "id": "2f517d99",
   "metadata": {},
   "outputs": [
    {
     "name": "stdout",
     "output_type": "stream",
     "text": [
      "[[-200 -150]\n",
      " [-200 -100]\n",
      " [   0  150]\n",
      " [ 400  600]\n",
      " [1000 1250]]\n"
     ]
    }
   ],
   "source": [
    "d3 = d3.reshape(5,1)\n",
    "\n",
    "d4 = d2*d3\n",
    "\n",
    "print(d4)\n"
   ]
  },
  {
   "cell_type": "markdown",
   "id": "62b2d094",
   "metadata": {},
   "source": [
    "### Print to the console the 1st, 3rd and 5th rows, both columns, of d4."
   ]
  },
  {
   "cell_type": "code",
   "execution_count": 7,
   "id": "334ef9f7",
   "metadata": {},
   "outputs": [
    {
     "name": "stdout",
     "output_type": "stream",
     "text": [
      "[[-200 -150]\n",
      " [   0  150]\n",
      " [1000 1250]]\n"
     ]
    }
   ],
   "source": [
    "print(d4[[0,2,4],:])"
   ]
  },
  {
   "cell_type": "markdown",
   "id": "7a0cf07b",
   "metadata": {},
   "source": [
    "### Print the object ID of d4 to the console."
   ]
  },
  {
   "cell_type": "code",
   "execution_count": 8,
   "id": "1c9732b1",
   "metadata": {},
   "outputs": [
    {
     "name": "stdout",
     "output_type": "stream",
     "text": [
      "ID of d4 :2228165918960\n"
     ]
    }
   ],
   "source": [
    "print(f\"ID of d4 :{id(d4)}\")"
   ]
  },
  {
   "cell_type": "markdown",
   "id": "b94e58e1",
   "metadata": {},
   "source": [
    "### Resize (not reshape) d4 into a 2x5 array."
   ]
  },
  {
   "cell_type": "code",
   "execution_count": 9,
   "id": "3d1040e9",
   "metadata": {},
   "outputs": [
    {
     "name": "stdout",
     "output_type": "stream",
     "text": [
      "[[-200 -150 -200 -100    0]\n",
      " [ 150  400  600 1000 1250]]\n"
     ]
    }
   ],
   "source": [
    "d4.resize(2,5)\n",
    "print(d4)"
   ]
  },
  {
   "cell_type": "markdown",
   "id": "a294b3bf",
   "metadata": {},
   "source": [
    "### Flatten (not reshape) d4 back into a 10x1 array. Print the result to the console. Your output should match: [-200 -150 -200 -100 0 150 400 600 1000 1250]"
   ]
  },
  {
   "cell_type": "code",
   "execution_count": 10,
   "id": "4f75f7a6",
   "metadata": {},
   "outputs": [
    {
     "name": "stdout",
     "output_type": "stream",
     "text": [
      "[-200 -150 -200 -100    0  150  400  600 1000 1250]\n"
     ]
    }
   ],
   "source": [
    "d4 = d4.flatten()\n",
    "print(d4)"
   ]
  }
 ],
 "metadata": {
  "kernelspec": {
   "display_name": "Python 3 (ipykernel)",
   "language": "python",
   "name": "python3"
  },
  "language_info": {
   "codemirror_mode": {
    "name": "ipython",
    "version": 3
   },
   "file_extension": ".py",
   "mimetype": "text/x-python",
   "name": "python",
   "nbconvert_exporter": "python",
   "pygments_lexer": "ipython3",
   "version": "3.11.5"
  }
 },
 "nbformat": 4,
 "nbformat_minor": 5
}
