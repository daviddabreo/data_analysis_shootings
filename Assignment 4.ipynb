{
 "cells": [
  {
   "cell_type": "code",
   "execution_count": 1,
   "id": "9f5cec71",
   "metadata": {},
   "outputs": [
    {
     "name": "stdout",
     "output_type": "stream",
     "text": [
      "     day1  day2   day3\n",
      "Mon  68.0  89.0    NaN\n",
      "Wed  71.0  93.0   48.0\n",
      "Fri  66.0  82.0  104.0\n",
      "Tue  75.0  97.0   43.0\n",
      "Thu  62.0   NaN   89.0\n"
     ]
    }
   ],
   "source": [
    "import pandas as pd\n",
    "import numpy as np\n",
    "d = pd.DataFrame({'Mon': [68, 89, np.nan], 'Wed': [71, 93, 48], 'Fri': [66, 82, 104],\n",
    "'Tue': [75, 97, 43], 'Thu': [62, np.nan, 89]}, index = [\"day1\",\"day2\",\"day3\"]).T\n",
    "print(d)"
   ]
  },
  {
   "cell_type": "markdown",
   "id": "f3cc311c",
   "metadata": {},
   "source": [
    "### Reindex 'd' so row indices read chronologically, and include Sat and Sun. That is, \"Mon\", \"Tue\", ..., \"Sat', \"Sun\", and the columns indices read day3, day2, day1. Print d to the console."
   ]
  },
  {
   "cell_type": "code",
   "execution_count": 2,
   "id": "71efde63",
   "metadata": {},
   "outputs": [
    {
     "name": "stdout",
     "output_type": "stream",
     "text": [
      "      day3  day2  day1\n",
      "Mon    NaN  89.0  68.0\n",
      "Tue   43.0  97.0  75.0\n",
      "Wed   48.0  93.0  71.0\n",
      "Thu   89.0   NaN  62.0\n",
      "Fri  104.0  82.0  66.0\n",
      "Sat    NaN   NaN   NaN\n",
      "Sun    NaN   NaN   NaN\n"
     ]
    }
   ],
   "source": [
    "\n",
    "d = d.reindex([\"Mon\",\"Tue\",\"Wed\",\"Thu\",\"Fri\",\"Sat\",\"Sun\"], )\n",
    "d = d.reindex([\"day3\",\"day2\",\"day1\"], axis = 'columns')\n",
    "print(d)"
   ]
  },
  {
   "cell_type": "markdown",
   "id": "e2106cd2",
   "metadata": {},
   "source": [
    "### Print to the console the following elements: Tuesday and Thursday, for days3 and days2."
   ]
  },
  {
   "cell_type": "code",
   "execution_count": 3,
   "id": "9e4beb15",
   "metadata": {},
   "outputs": [
    {
     "name": "stdout",
     "output_type": "stream",
     "text": [
      "     day3  day2\n",
      "Tue  43.0  97.0\n",
      "Thu  89.0   NaN\n"
     ]
    }
   ],
   "source": [
    "print(d.loc[[\"Tue\", \"Thu\"], [\"day3\", \"day2\"]])"
   ]
  },
  {
   "cell_type": "markdown",
   "id": "4a57f78d",
   "metadata": {},
   "source": [
    "### Using a single line of code, print the mean temperature for each day of the week to the console, rounding values to 3 decimal places."
   ]
  },
  {
   "cell_type": "code",
   "execution_count": 4,
   "id": "b51a23f8",
   "metadata": {},
   "outputs": [
    {
     "name": "stdout",
     "output_type": "stream",
     "text": [
      "day3    71.00\n",
      "day2    90.25\n",
      "day1    68.40\n",
      "dtype: float64\n"
     ]
    }
   ],
   "source": [
    "print(d.mean().round(3))"
   ]
  },
  {
   "cell_type": "code",
   "execution_count": 5,
   "id": "9b666cb3",
   "metadata": {},
   "outputs": [],
   "source": [
    "d = pd.read_csv(\"mpg.csv\")"
   ]
  },
  {
   "cell_type": "markdown",
   "id": "9588e58c",
   "metadata": {},
   "source": [
    "###  Calculate the mean city (cty) mileage for each manufacturer, printing the result to the console."
   ]
  },
  {
   "cell_type": "code",
   "execution_count": 6,
   "id": "ea72c7f9",
   "metadata": {},
   "outputs": [
    {
     "name": "stdout",
     "output_type": "stream",
     "text": [
      "manufacturer\n",
      "audi          17.611111\n",
      "chevrolet     15.000000\n",
      "dodge         13.135135\n",
      "ford          14.000000\n",
      "honda         24.444444\n",
      "hyundai       18.642857\n",
      "jeep          13.500000\n",
      "land rover    11.500000\n",
      "lincoln       11.333333\n",
      "mercury       13.250000\n",
      "nissan        18.076923\n",
      "pontiac       17.000000\n",
      "subaru        19.285714\n",
      "toyota        18.529412\n",
      "volkswagen    20.925926\n",
      "Name: cty, dtype: float64\n"
     ]
    }
   ],
   "source": [
    "mean = d.groupby('manufacturer')['cty'].mean()\n",
    "print(mean)"
   ]
  },
  {
   "cell_type": "markdown",
   "id": "4baa7d91",
   "metadata": {},
   "source": [
    "###  Group 'd' by cylinders (cyl) and type of drive train (drv). Calculate the number of models per group (hint: .size()). Convert the result into a DataFrame, and print to the console.  Your output should match the following:"
   ]
  },
  {
   "cell_type": "code",
   "execution_count": 8,
   "id": "b05e6e1c",
   "metadata": {},
   "outputs": [
    {
     "name": "stdout",
     "output_type": "stream",
     "text": [
      "drv     4     f     r\n",
      "cyl                  \n",
      "4    23.0  58.0   NaN\n",
      "5     NaN   4.0   NaN\n",
      "6    32.0  43.0   4.0\n",
      "8    48.0   1.0  21.0\n"
     ]
    }
   ],
   "source": [
    "grouped = d.groupby(['cyl', 'drv']).size().reset_index(name='count')\n",
    "pivot = grouped.pivot_table(index='cyl', columns='drv', values='count')\n",
    "print(pivot)"
   ]
  }
 ],
 "metadata": {
  "kernelspec": {
   "display_name": "Python 3 (ipykernel)",
   "language": "python",
   "name": "python3"
  },
  "language_info": {
   "codemirror_mode": {
    "name": "ipython",
    "version": 3
   },
   "file_extension": ".py",
   "mimetype": "text/x-python",
   "name": "python",
   "nbconvert_exporter": "python",
   "pygments_lexer": "ipython3",
   "version": "3.11.5"
  }
 },
 "nbformat": 4,
 "nbformat_minor": 5
}
